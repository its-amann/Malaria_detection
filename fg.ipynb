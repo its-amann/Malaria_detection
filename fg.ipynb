{
 "cells": [
  {
   "cell_type": "code",
   "execution_count": 1,
   "metadata": {},
   "outputs": [
    {
     "name": "stdout",
     "output_type": "stream",
     "text": [
      "Requirement already satisfied: ipywebrtc in /usr/local/lib/python3.11/dist-packages (0.6.0)\n",
      "\u001b[33mWARNING: Running pip as the 'root' user can result in broken permissions and conflicting behaviour with the system package manager. It is recommended to use a virtual environment instead: https://pip.pypa.io/warnings/venv\u001b[0m\u001b[33m\n",
      "\u001b[0m"
     ]
    },
    {
     "data": {
      "application/vnd.jupyter.widget-view+json": {
       "model_id": "ee2d3f8ed62045339b2cefa300edc7c9",
       "version_major": 2,
       "version_minor": 0
      },
      "text/plain": [
       "CameraStream(constraints={'facing_mode': 'user'})"
      ]
     },
     "metadata": {},
     "output_type": "display_data"
    }
   ],
   "source": [
    "!pip install ipywebrtc\n",
    "\n",
    "from ipywidgets import Image\n",
    "from IPython.display import display\n",
    "from ipywebrtc import CameraStream\n",
    "\n",
    "camera = CameraStream(constraints={'facing_mode': 'user'})\n",
    "\n",
    "display(camera)"
   ]
  },
  {
   "cell_type": "code",
   "execution_count": null,
   "metadata": {},
   "outputs": [
    {
     "name": "stdout",
     "output_type": "stream",
     "text": [
      "Error opening video stream\n",
      "Can't receive frame (stream end?). Exiting ...\n"
     ]
    },
    {
     "name": "stderr",
     "output_type": "stream",
     "text": [
      "[ WARN:0@0.012] global cap_v4l.cpp:982 open VIDEOIO(V4L2:/dev/video0): can't open camera by index\n",
      "[ERROR:0@0.012] global obsensor_uvc_stream_channel.cpp:156 getStreamChannelGroup Camera index out of range\n"
     ]
    },
    {
     "ename": "",
     "evalue": "",
     "output_type": "error",
     "traceback": [
      "\u001b[1;31mThe Kernel crashed while executing code in the current cell or a previous cell. \n",
      "\u001b[1;31mPlease review the code in the cell(s) to identify a possible cause of the failure. \n",
      "\u001b[1;31mClick <a href='https://aka.ms/vscodeJupyterKernelCrash'>here</a> for more info. \n",
      "\u001b[1;31mView Jupyter <a href='command:jupyter.viewOutput'>log</a> for further details."
     ]
    }
   ],
   "source": [
    "import cv2\n",
    "\n",
    "# Initialize the video capture object\n",
    "cap = cv2.VideoCapture(0)  # 0 for the default camera\n",
    "\n",
    "# Check if the camera opened successfully\n",
    "if not cap.isOpened():\n",
    "    print(\"Error opening video stream\")\n",
    "    exit()\n",
    "\n",
    "while True:\n",
    "    # Read a frame from the camera\n",
    "    ret, frame = cap.read()\n",
    "\n",
    "    # Check if frame is read successfully\n",
    "    if not ret:\n",
    "        print(\"Can't receive frame (stream end?). Exiting ...\")\n",
    "        break\n",
    "\n",
    "    # Display the frame\n",
    "    cv2.imshow('Camera Feed', frame)\n",
    "\n",
    "    # Wait for 1 ms and check if the 'q' key is pressed\n",
    "    if cv2.waitKey(1) & 0xFF == ord('q'):\n",
    "        break\n",
    "\n",
    "# Release the camera and close all windows\n",
    "cap.release()\n",
    "cv2.destroyAllWindows()"
   ]
  },
  {
   "cell_type": "code",
   "execution_count": 3,
   "metadata": {},
   "outputs": [],
   "source": [
    "import pandas as pd\n",
    "url = 'https://en.wikipedia.org/wiki/List_of_countries_by_GDP_(nominal)'\n",
    "df = pd.read_html(url,match='Country/Territory',header=0)[0]\n"
   ]
  },
  {
   "cell_type": "code",
   "execution_count": 4,
   "metadata": {},
   "outputs": [
    {
     "data": {
      "text/html": [
       "<div>\n",
       "<style scoped>\n",
       "    .dataframe tbody tr th:only-of-type {\n",
       "        vertical-align: middle;\n",
       "    }\n",
       "\n",
       "    .dataframe tbody tr th {\n",
       "        vertical-align: top;\n",
       "    }\n",
       "\n",
       "    .dataframe thead th {\n",
       "        text-align: right;\n",
       "    }\n",
       "</style>\n",
       "<table border=\"1\" class=\"dataframe\">\n",
       "  <thead>\n",
       "    <tr style=\"text-align: right;\">\n",
       "      <th></th>\n",
       "      <th>Country/Territory</th>\n",
       "      <th>IMF[1][13]</th>\n",
       "      <th>IMF[1][13].1</th>\n",
       "      <th>World Bank[14]</th>\n",
       "      <th>World Bank[14].1</th>\n",
       "      <th>United Nations[15]</th>\n",
       "      <th>United Nations[15].1</th>\n",
       "    </tr>\n",
       "  </thead>\n",
       "  <tbody>\n",
       "    <tr>\n",
       "      <th>0</th>\n",
       "      <td>Country/Territory</td>\n",
       "      <td>Forecast</td>\n",
       "      <td>Year</td>\n",
       "      <td>Estimate</td>\n",
       "      <td>Year</td>\n",
       "      <td>Estimate</td>\n",
       "      <td>Year</td>\n",
       "    </tr>\n",
       "    <tr>\n",
       "      <th>1</th>\n",
       "      <td>World</td>\n",
       "      <td>110064915</td>\n",
       "      <td>2024</td>\n",
       "      <td>105435540</td>\n",
       "      <td>2023</td>\n",
       "      <td>100834796</td>\n",
       "      <td>2022</td>\n",
       "    </tr>\n",
       "    <tr>\n",
       "      <th>2</th>\n",
       "      <td>United States</td>\n",
       "      <td>29167779</td>\n",
       "      <td>2024</td>\n",
       "      <td>27360935</td>\n",
       "      <td>2023</td>\n",
       "      <td>25744100</td>\n",
       "      <td>2022</td>\n",
       "    </tr>\n",
       "    <tr>\n",
       "      <th>3</th>\n",
       "      <td>China</td>\n",
       "      <td>18273357</td>\n",
       "      <td>[n 1]2024</td>\n",
       "      <td>17794782</td>\n",
       "      <td>[n 3]2023</td>\n",
       "      <td>17963170</td>\n",
       "      <td>[n 1]2022</td>\n",
       "    </tr>\n",
       "    <tr>\n",
       "      <th>4</th>\n",
       "      <td>Germany</td>\n",
       "      <td>4710032</td>\n",
       "      <td>2024</td>\n",
       "      <td>4456081</td>\n",
       "      <td>2023</td>\n",
       "      <td>4076923</td>\n",
       "      <td>2022</td>\n",
       "    </tr>\n",
       "    <tr>\n",
       "      <th>...</th>\n",
       "      <td>...</td>\n",
       "      <td>...</td>\n",
       "      <td>...</td>\n",
       "      <td>...</td>\n",
       "      <td>...</td>\n",
       "      <td>...</td>\n",
       "      <td>...</td>\n",
       "    </tr>\n",
       "    <tr>\n",
       "      <th>206</th>\n",
       "      <td>Kiribati</td>\n",
       "      <td>311</td>\n",
       "      <td>2024</td>\n",
       "      <td>279</td>\n",
       "      <td>2023</td>\n",
       "      <td>223</td>\n",
       "      <td>2022</td>\n",
       "    </tr>\n",
       "    <tr>\n",
       "      <th>207</th>\n",
       "      <td>Palau</td>\n",
       "      <td>308</td>\n",
       "      <td>2024</td>\n",
       "      <td>263</td>\n",
       "      <td>2023</td>\n",
       "      <td>225</td>\n",
       "      <td>2022</td>\n",
       "    </tr>\n",
       "    <tr>\n",
       "      <th>208</th>\n",
       "      <td>Marshall Islands</td>\n",
       "      <td>305</td>\n",
       "      <td>2024</td>\n",
       "      <td>284</td>\n",
       "      <td>2023</td>\n",
       "      <td>279</td>\n",
       "      <td>2022</td>\n",
       "    </tr>\n",
       "    <tr>\n",
       "      <th>209</th>\n",
       "      <td>Nauru</td>\n",
       "      <td>161</td>\n",
       "      <td>2024</td>\n",
       "      <td>154</td>\n",
       "      <td>2023</td>\n",
       "      <td>147</td>\n",
       "      <td>2022</td>\n",
       "    </tr>\n",
       "    <tr>\n",
       "      <th>210</th>\n",
       "      <td>Tuvalu</td>\n",
       "      <td>66</td>\n",
       "      <td>2024</td>\n",
       "      <td>62</td>\n",
       "      <td>2023</td>\n",
       "      <td>59</td>\n",
       "      <td>2022</td>\n",
       "    </tr>\n",
       "  </tbody>\n",
       "</table>\n",
       "<p>211 rows × 7 columns</p>\n",
       "</div>"
      ],
      "text/plain": [
       "     Country/Territory IMF[1][13] IMF[1][13].1 World Bank[14]  \\\n",
       "0    Country/Territory   Forecast         Year       Estimate   \n",
       "1                World  110064915         2024      105435540   \n",
       "2        United States   29167779         2024       27360935   \n",
       "3                China   18273357    [n 1]2024       17794782   \n",
       "4              Germany    4710032         2024        4456081   \n",
       "..                 ...        ...          ...            ...   \n",
       "206           Kiribati        311         2024            279   \n",
       "207              Palau        308         2024            263   \n",
       "208   Marshall Islands        305         2024            284   \n",
       "209              Nauru        161         2024            154   \n",
       "210             Tuvalu         66         2024             62   \n",
       "\n",
       "    World Bank[14].1 United Nations[15] United Nations[15].1  \n",
       "0               Year           Estimate                 Year  \n",
       "1               2023          100834796                 2022  \n",
       "2               2023           25744100                 2022  \n",
       "3          [n 3]2023           17963170            [n 1]2022  \n",
       "4               2023            4076923                 2022  \n",
       "..               ...                ...                  ...  \n",
       "206             2023                223                 2022  \n",
       "207             2023                225                 2022  \n",
       "208             2023                279                 2022  \n",
       "209             2023                147                 2022  \n",
       "210             2023                 59                 2022  \n",
       "\n",
       "[211 rows x 7 columns]"
      ]
     },
     "execution_count": 4,
     "metadata": {},
     "output_type": "execute_result"
    }
   ],
   "source": [
    "df"
   ]
  },
  {
   "cell_type": "code",
   "execution_count": 8,
   "metadata": {},
   "outputs": [
    {
     "data": {
      "text/html": [
       "<div>\n",
       "<style scoped>\n",
       "    .dataframe tbody tr th:only-of-type {\n",
       "        vertical-align: middle;\n",
       "    }\n",
       "\n",
       "    .dataframe tbody tr th {\n",
       "        vertical-align: top;\n",
       "    }\n",
       "\n",
       "    .dataframe thead th {\n",
       "        text-align: right;\n",
       "    }\n",
       "</style>\n",
       "<table border=\"1\" class=\"dataframe\">\n",
       "  <thead>\n",
       "    <tr style=\"text-align: right;\">\n",
       "      <th></th>\n",
       "      <th>Country/Territory</th>\n",
       "      <th>IMF[1][13]</th>\n",
       "      <th>IMF[1][13].1</th>\n",
       "      <th>World Bank[14]</th>\n",
       "      <th>World Bank[14].1</th>\n",
       "      <th>United Nations[15]</th>\n",
       "      <th>United Nations[15].1</th>\n",
       "    </tr>\n",
       "  </thead>\n",
       "  <tbody>\n",
       "    <tr>\n",
       "      <th>count</th>\n",
       "      <td>211</td>\n",
       "      <td>211</td>\n",
       "      <td>211</td>\n",
       "      <td>211</td>\n",
       "      <td>211</td>\n",
       "      <td>211</td>\n",
       "      <td>211</td>\n",
       "    </tr>\n",
       "    <tr>\n",
       "      <th>unique</th>\n",
       "      <td>211</td>\n",
       "      <td>197</td>\n",
       "      <td>13</td>\n",
       "      <td>204</td>\n",
       "      <td>11</td>\n",
       "      <td>211</td>\n",
       "      <td>10</td>\n",
       "    </tr>\n",
       "    <tr>\n",
       "      <th>top</th>\n",
       "      <td>Country/Territory</td>\n",
       "      <td>—</td>\n",
       "      <td>2024</td>\n",
       "      <td>—</td>\n",
       "      <td>2023</td>\n",
       "      <td>Estimate</td>\n",
       "      <td>2022</td>\n",
       "    </tr>\n",
       "    <tr>\n",
       "      <th>freq</th>\n",
       "      <td>1</td>\n",
       "      <td>15</td>\n",
       "      <td>183</td>\n",
       "      <td>8</td>\n",
       "      <td>180</td>\n",
       "      <td>1</td>\n",
       "      <td>202</td>\n",
       "    </tr>\n",
       "  </tbody>\n",
       "</table>\n",
       "</div>"
      ],
      "text/plain": [
       "        Country/Territory IMF[1][13] IMF[1][13].1 World Bank[14]  \\\n",
       "count                 211        211          211            211   \n",
       "unique                211        197           13            204   \n",
       "top     Country/Territory          —         2024              —   \n",
       "freq                    1         15          183              8   \n",
       "\n",
       "       World Bank[14].1 United Nations[15] United Nations[15].1  \n",
       "count               211                211                  211  \n",
       "unique               11                211                   10  \n",
       "top                2023           Estimate                 2022  \n",
       "freq                180                  1                  202  "
      ]
     },
     "execution_count": 8,
     "metadata": {},
     "output_type": "execute_result"
    }
   ],
   "source": [
    "pd.DataFrame(df).describe()"
   ]
  },
  {
   "cell_type": "code",
   "execution_count": 2,
   "metadata": {},
   "outputs": [
    {
     "name": "stdout",
     "output_type": "stream",
     "text": [
      "Requirement already satisfied: pytrends in c:\\users\\amana\\anaconda3\\lib\\site-packages (4.9.2)\n",
      "Requirement already satisfied: tweepy in c:\\users\\amana\\anaconda3\\lib\\site-packages (4.14.0)\n",
      "Requirement already satisfied: pandas in c:\\users\\amana\\anaconda3\\lib\\site-packages (2.2.2)\n",
      "Requirement already satisfied: matplotlib in c:\\users\\amana\\anaconda3\\lib\\site-packages (3.9.2)\n",
      "Requirement already satisfied: seaborn in c:\\users\\amana\\anaconda3\\lib\\site-packages (0.13.2)\n",
      "Requirement already satisfied: requests>=2.0 in c:\\users\\amana\\anaconda3\\lib\\site-packages (from pytrends) (2.32.3)\n",
      "Requirement already satisfied: lxml in c:\\users\\amana\\anaconda3\\lib\\site-packages (from pytrends) (5.2.1)\n",
      "Requirement already satisfied: oauthlib<4,>=3.2.0 in c:\\users\\amana\\anaconda3\\lib\\site-packages (from tweepy) (3.2.2)\n",
      "Requirement already satisfied: requests-oauthlib<2,>=1.2.0 in c:\\users\\amana\\anaconda3\\lib\\site-packages (from tweepy) (1.3.1)\n",
      "Requirement already satisfied: numpy>=1.26.0 in c:\\users\\amana\\anaconda3\\lib\\site-packages (from pandas) (1.26.4)\n",
      "Requirement already satisfied: python-dateutil>=2.8.2 in c:\\users\\amana\\anaconda3\\lib\\site-packages (from pandas) (2.9.0.post0)\n",
      "Requirement already satisfied: pytz>=2020.1 in c:\\users\\amana\\anaconda3\\lib\\site-packages (from pandas) (2024.1)\n",
      "Requirement already satisfied: tzdata>=2022.7 in c:\\users\\amana\\anaconda3\\lib\\site-packages (from pandas) (2023.3)\n",
      "Requirement already satisfied: contourpy>=1.0.1 in c:\\users\\amana\\anaconda3\\lib\\site-packages (from matplotlib) (1.2.0)\n",
      "Requirement already satisfied: cycler>=0.10 in c:\\users\\amana\\anaconda3\\lib\\site-packages (from matplotlib) (0.11.0)\n",
      "Requirement already satisfied: fonttools>=4.22.0 in c:\\users\\amana\\anaconda3\\lib\\site-packages (from matplotlib) (4.51.0)\n",
      "Requirement already satisfied: kiwisolver>=1.3.1 in c:\\users\\amana\\anaconda3\\lib\\site-packages (from matplotlib) (1.4.4)\n",
      "Requirement already satisfied: packaging>=20.0 in c:\\users\\amana\\anaconda3\\lib\\site-packages (from matplotlib) (24.1)\n",
      "Requirement already satisfied: pillow>=8 in c:\\users\\amana\\anaconda3\\lib\\site-packages (from matplotlib) (10.4.0)\n",
      "Requirement already satisfied: pyparsing>=2.3.1 in c:\\users\\amana\\anaconda3\\lib\\site-packages (from matplotlib) (3.1.2)\n",
      "Requirement already satisfied: six>=1.5 in c:\\users\\amana\\anaconda3\\lib\\site-packages (from python-dateutil>=2.8.2->pandas) (1.16.0)\n",
      "Requirement already satisfied: charset-normalizer<4,>=2 in c:\\users\\amana\\anaconda3\\lib\\site-packages (from requests>=2.0->pytrends) (3.3.2)\n",
      "Requirement already satisfied: idna<4,>=2.5 in c:\\users\\amana\\anaconda3\\lib\\site-packages (from requests>=2.0->pytrends) (3.7)\n",
      "Requirement already satisfied: urllib3<3,>=1.21.1 in c:\\users\\amana\\anaconda3\\lib\\site-packages (from requests>=2.0->pytrends) (2.2.3)\n",
      "Requirement already satisfied: certifi>=2017.4.17 in c:\\users\\amana\\anaconda3\\lib\\site-packages (from requests>=2.0->pytrends) (2024.8.30)\n"
     ]
    },
    {
     "data": {
      "image/png": "[encoded data removed]",
      "text/plain": [
       "<Figure size 1200x600 with 1 Axes>"
      ]
     },
     "metadata": {},
     "output_type": "display_data"
    },
    {
     "name": "stdout",
     "output_type": "stream",
     "text": [
      "\n",
      "Top trending searches today:\n",
      "1. 0\n"
     ]
    }
   ],
   "source": [
    "# Install required packages\n",
    "!pip install pytrends tweepy pandas matplotlib seaborn\n",
    "\n",
    "import tweepy\n",
    "from pytrends.request import TrendReq\n",
    "import pandas as pd\n",
    "import matplotlib.pyplot as plt\n",
    "import seaborn as sns\n",
    "from datetime import datetime, timedelta\n",
    "\n",
    "# Set up Google Trends\n",
    "pytrends = TrendReq(hl='en-US', tz=360)\n",
    "\n",
    "# Get trending searches for last 24 hours\n",
    "date = datetime.today().strftime('%Y-%m-%d')\n",
    "trending_searches = pytrends.trending_searches(pn='united_states')\n",
    "top_trends = trending_searches.head(10)\n",
    "\n",
    "# Visualize trends\n",
    "plt.figure(figsize=(12, 6))\n",
    "sns.barplot(x=top_trends[0], y=range(len(top_trends)))\n",
    "plt.title('Top 10 Google Trends Today')\n",
    "plt.xlabel('Trending Topics')\n",
    "plt.ylabel('Rank')\n",
    "plt.xticks(rotation=45)\n",
    "plt.tight_layout()\n",
    "plt.show()\n",
    "\n",
    "# Print trending topics\n",
    "print(\"\\nTop trending searches today:\")\n",
    "for idx, trend in enumerate(top_trends, 1):\n",
    "    print(f\"{idx}. {trend}\")"
   ]
  },
  {
   "cell_type": "code",
   "execution_count": 3,
   "metadata": {},
   "outputs": [
    {
     "name": "stderr",
     "output_type": "stream",
     "text": [
      "DEBUG:root:This will get logged\n",
      "INFO:root:This will get logged\n",
      "WARNING:root:This will get logged\n",
      "ERROR:root:This will get logged\n",
      "CRITICAL:root:This will get logged\n"
     ]
    }
   ],
   "source": [
    "import logging\n",
    "\n",
    "# logging  messages with different severity levels\n",
    "logging.basicConfig(level=logging.DEBUG)\n",
    "logging.debug('This will get logged')\n",
    "logging.info('This will get logged')\n",
    "logging.warning('This will get logged')\n",
    "logging.error('This will get logged')\n",
    "logging.critical('This will get logged')\n",
    "\n"
   ]
  },
  {
   "cell_type": "code",
   "execution_count": 1,
   "metadata": {},
   "outputs": [],
   "source": [
    "import logging\n",
    "logging.basicConfig(\n",
    "    level=logging.DEBUG,\n",
    "    format=\"%(asctime)s [%(levelname)s] %(message)s\",\n",
    "    handlers=[\n",
    "        logging.FileHandler(\"app.log\"),\n",
    "        logging.StreamHandler()\n",
    "    ]\n",
    "    )\n",
    "logger = logging.getLogger('app.log')\n",
    "logger.setLevel(logging.DEBUG)\n"
   ]
  },
  {
   "cell_type": "code",
   "execution_count": 2,
   "metadata": {},
   "outputs": [
    {
     "name": "stderr",
     "output_type": "stream",
     "text": [
      "2024-11-05 14:20:50,620 [DEBUG] This will get logged\n",
      "2024-11-05 14:20:50,623 [INFO] This will get logged\n"
     ]
    }
   ],
   "source": [
    "logger.debug('This will get logged')\n",
    "logger.info('This will get logged')"
   ]
  },
  {
   "cell_type": "code",
   "execution_count": 3,
   "metadata": {},
   "outputs": [],
   "source": [
    "def hell(func):\n",
    "    def wrapper():\n",
    "        print('Hello, this is before function execution')\n",
    "        func()\n",
    "        print('This is after function execution')\n",
    "    return wrapper\n",
    "\n",
    "@hell\n",
    "def function_to_be_used():\n",
    "    return print('This is inside the function')"
   ]
  },
  {
   "cell_type": "code",
   "execution_count": 4,
   "metadata": {},
   "outputs": [
    {
     "name": "stdout",
     "output_type": "stream",
     "text": [
      "Hello, this is before function execution\n",
      "This is inside the function\n",
      "This is after function execution\n"
     ]
    }
   ],
   "source": [
    "function_to_be_used()"
   ]
  },
  {
   "cell_type": "code",
   "execution_count": null,
   "metadata": {},
   "outputs": [],
   "source": []
  }
 ],
 "metadata": {
  "kernelspec": {
   "display_name": "base",
   "language": "python",
   "name": "python3"
  },
  "language_info": {
   "codemirror_mode": {
    "name": "ipython",
    "version": 3
   },
   "file_extension": ".py",
   "mimetype": "text/x-python",
   "name": "python",
   "nbconvert_exporter": "python",
   "pygments_lexer": "ipython3",
   "version": "3.12.7"
  }
 },
 "nbformat": 4,
 "nbformat_minor": 2
}
